{
 "cells": [
  {
   "cell_type": "markdown",
   "id": "123456",
   "metadata": {},
   "source": [
    "<div style=\"text-align:left;font-size:2em\"><span style=\"font-weight:bolder;font-size:1.25em\">SP2273 | Learning Portfolio</span><br><br><span style=\"font-weight:bold;color:darkred\">Loops (Need)</span></div>"
   ]
  },
  {
   "cell_type": "markdown",
   "id": "33745159",
   "metadata": {},
   "source": [
    "## 1 for"
   ]
  },
  {
   "cell_type": "markdown",
   "id": "82dee54a",
   "metadata": {},
   "source": [
    "### 1.1 for with a list"
   ]
  },
  {
   "cell_type": "code",
   "execution_count": 1,
   "id": "07baa64e",
   "metadata": {},
   "outputs": [
    {
     "name": "stdout",
     "output_type": "stream",
     "text": [
      "Natasha Romanoff is a Marvel superhero!\n",
      "Tony Stark is a Marvel superhero!\n",
      "Stephen Strange is a Marvel superhero!\n"
     ]
    }
   ],
   "source": [
    "real_names = [\"Natasha Romanoff\", \"Tony Stark\", \"Stephen Strange\"]\n",
    "for name in real_names:\n",
    "    print(f\"{name} is a Marvel superhero!\")"
   ]
  },
  {
   "cell_type": "markdown",
   "id": "932bc695",
   "metadata": {},
   "source": [
    "### 1.2 for with enumerate"
   ]
  },
  {
   "cell_type": "code",
   "execution_count": null,
   "id": "0b8803d0",
   "metadata": {},
   "outputs": [],
   "source": [
    "super_names = [\"Black Widow\", \"Iron Man\", \"Doctor Strange\"]\n",
    "real_names = [\"Natasha Romanoff\", \"Tony Stark\", \"Stephen Strange\"]\n",
    "for i, name in enumerate(real_names):\n",
    "    print(f'{i}: {name} is a Marvel superhero!')"
   ]
  },
  {
   "cell_type": "markdown",
   "id": "3f1584cd",
   "metadata": {},
   "source": [
    "### 1.3 for with range"
   ]
  },
  {
   "cell_type": "code",
   "execution_count": null,
   "id": "6f0de500",
   "metadata": {},
   "outputs": [],
   "source": [
    "\n",
    "# Your code here\n"
   ]
  },
  {
   "cell_type": "markdown",
   "id": "e4cc3431",
   "metadata": {},
   "source": [
    "## 2 while"
   ]
  },
  {
   "cell_type": "markdown",
   "id": "b87b50f1",
   "metadata": {},
   "source": [
    "## Exercise 1 :  Make me a list"
   ]
  },
  {
   "cell_type": "code",
   "execution_count": null,
   "id": "5b9fcfea",
   "metadata": {},
   "outputs": [],
   "source": [
    "\n",
    "\n",
    "\n",
    "# Your solution here\n",
    "\n",
    "\n"
   ]
  },
  {
   "cell_type": "markdown",
   "id": "10098094",
   "metadata": {},
   "source": [
    "## Exercise 2 :  Make me an odd list"
   ]
  },
  {
   "cell_type": "code",
   "execution_count": null,
   "id": "a41ffffd",
   "metadata": {},
   "outputs": [],
   "source": [
    "\n",
    "\n",
    "\n",
    "# Your solution here\n",
    "\n",
    "\n"
   ]
  },
  {
   "cell_type": "markdown",
   "id": "610b24ff",
   "metadata": {},
   "source": [
    "## Exercise 3 :  Make me another odd list"
   ]
  },
  {
   "cell_type": "code",
   "execution_count": null,
   "id": "c56ee21a",
   "metadata": {},
   "outputs": [],
   "source": [
    "\n",
    "\n",
    "\n",
    "# Your solution here\n",
    "\n",
    "\n"
   ]
  }
 ],
 "metadata": {
  "kernelspec": {
   "display_name": "Python 3 (ipykernel)",
   "language": "python",
   "name": "python3"
  },
  "language_info": {
   "codemirror_mode": {
    "name": "ipython",
    "version": 3
   },
   "file_extension": ".py",
   "mimetype": "text/x-python",
   "name": "python",
   "nbconvert_exporter": "python",
   "pygments_lexer": "ipython3",
   "version": "3.10.8"
  },
  "toc": {
   "base_numbering": 1,
   "nav_menu": {},
   "number_sections": true,
   "sideBar": true,
   "skip_h1_title": false,
   "title_cell": "Table of Contents",
   "title_sidebar": "Contents",
   "toc_cell": false,
   "toc_position": {},
   "toc_section_display": true,
   "toc_window_display": false
  },
  "varInspector": {
   "cols": {
    "lenName": 16,
    "lenType": 16,
    "lenVar": 40
   },
   "kernels_config": {
    "python": {
     "delete_cmd_postfix": "",
     "delete_cmd_prefix": "del ",
     "library": "var_list.py",
     "varRefreshCmd": "print(var_dic_list())"
    },
    "r": {
     "delete_cmd_postfix": ") ",
     "delete_cmd_prefix": "rm(",
     "library": "var_list.r",
     "varRefreshCmd": "cat(var_dic_list()) "
    }
   },
   "types_to_exclude": [
    "module",
    "function",
    "builtin_function_or_method",
    "instance",
    "_Feature"
   ],
   "window_display": false
  },
  "vscode": {
   "interpreter": {
    "hash": "31f2aee4e71d21fbe5cf8b01ff0e069b9275f58929596ceb00d14d90e3e16cd6"
   }
  }
 },
 "nbformat": 4,
 "nbformat_minor": 5
}
