{
 "cells": [
  {
   "cell_type": "markdown",
   "id": "123456",
   "metadata": {},
   "source": [
    "<div style=\"text-align:left;font-size:2em\"><span style=\"font-weight:bolder;font-size:1.25em\">SP2273 | Learning Portfolio</span><br><br><span style=\"font-weight:bold;color:darkred\">Random Numbers (Good)</span></div>"
   ]
  },
  {
   "cell_type": "markdown",
   "id": "f66adcd4",
   "metadata": {},
   "source": [
    "## 1 Random numbers from other distributions"
   ]
  },
  {
   "cell_type": "markdown",
   "id": "1753d64e",
   "metadata": {},
   "source": [
    "### 1.1 Random numbers from the Normal distribution"
   ]
  },
  {
   "cell_type": "code",
   "execution_count": null,
   "id": "92f638dc",
   "metadata": {},
   "outputs": [],
   "source": [
    "\n",
    "# Your code here\n"
   ]
  },
  {
   "cell_type": "markdown",
   "id": "9a20f178",
   "metadata": {},
   "source": [
    "### 1.2 Visualising the random numbers"
   ]
  },
  {
   "cell_type": "code",
   "execution_count": null,
   "id": "dc4d6dde",
   "metadata": {},
   "outputs": [],
   "source": [
    "\n",
    "# Your code here\n"
   ]
  },
  {
   "cell_type": "markdown",
   "id": "5d89ea11",
   "metadata": {},
   "source": [
    "### 1.3 68%?"
   ]
  },
  {
   "cell_type": "code",
   "execution_count": null,
   "id": "1f3f5ae9",
   "metadata": {},
   "outputs": [],
   "source": [
    "\n",
    "# Your code here\n"
   ]
  },
  {
   "cell_type": "markdown",
   "id": "e5e82f76",
   "metadata": {},
   "source": [
    "## 1 Brownian Motion in 1D"
   ]
  },
  {
   "cell_type": "markdown",
   "id": "7dd32646",
   "metadata": {},
   "source": [
    "### 1.1 The scenario"
   ]
  },
  {
   "cell_type": "code",
   "execution_count": null,
   "id": "f2f824a3",
   "metadata": {},
   "outputs": [],
   "source": [
    "\n",
    "# Your code here\n"
   ]
  },
  {
   "cell_type": "markdown",
   "id": "0f71e3e3",
   "metadata": {},
   "source": [
    "### 1.2 The simulation"
   ]
  },
  {
   "cell_type": "code",
   "execution_count": null,
   "id": "64e1296a",
   "metadata": {},
   "outputs": [],
   "source": [
    "\n",
    "# Your code here\n"
   ]
  },
  {
   "cell_type": "markdown",
   "id": "c71f894d",
   "metadata": {},
   "source": [
    "### 1.3 What does theory say?"
   ]
  },
  {
   "cell_type": "code",
   "execution_count": null,
   "id": "0313d1c5",
   "metadata": {},
   "outputs": [],
   "source": [
    "\n",
    "# Your code here\n"
   ]
  },
  {
   "cell_type": "markdown",
   "id": "843395c9",
   "metadata": {},
   "source": [
    "## 2 Estimating \\(\\pi\\)"
   ]
  },
  {
   "cell_type": "markdown",
   "id": "dd440050",
   "metadata": {},
   "source": [
    "### 2.1 The method"
   ]
  },
  {
   "cell_type": "code",
   "execution_count": null,
   "id": "f286918d",
   "metadata": {},
   "outputs": [],
   "source": [
    "\n",
    "# Your code here\n"
   ]
  },
  {
   "cell_type": "markdown",
   "id": "f2fb6795",
   "metadata": {},
   "source": [
    "### 2.2 A poor but intuitive solution"
   ]
  },
  {
   "cell_type": "code",
   "execution_count": null,
   "id": "6bc3723e",
   "metadata": {},
   "outputs": [],
   "source": [
    "\n",
    "# Your code here\n"
   ]
  },
  {
   "cell_type": "markdown",
   "id": "9ab87a58",
   "metadata": {},
   "source": [
    "### 2.3 A better solution"
   ]
  },
  {
   "cell_type": "code",
   "execution_count": null,
   "id": "0dd3e533",
   "metadata": {},
   "outputs": [],
   "source": [
    "\n",
    "# Your code here\n"
   ]
  },
  {
   "cell_type": "markdown",
   "id": "1f13c4a7",
   "metadata": {},
   "source": [
    "### 2.4 A smarter solution"
   ]
  },
  {
   "cell_type": "code",
   "execution_count": null,
   "id": "8022eb8e",
   "metadata": {},
   "outputs": [],
   "source": [
    "\n",
    "# Your code here\n"
   ]
  },
  {
   "cell_type": "markdown",
   "id": "9d6dbfce",
   "metadata": {},
   "source": [
    "## Exercise 1 :  Vital Stats of Random π"
   ]
  },
  {
   "cell_type": "code",
   "execution_count": null,
   "id": "57a725f6",
   "metadata": {},
   "outputs": [],
   "source": [
    "\n",
    "\n",
    "\n",
    "# Your solution here\n",
    "\n",
    "\n"
   ]
  }
 ],
 "metadata": {
  "kernelspec": {
   "display_name": "Python 3 (ipykernel)",
   "language": "python",
   "name": "python3"
  },
  "language_info": {
   "codemirror_mode": {
    "name": "ipython",
    "version": 3
   },
   "file_extension": ".py",
   "mimetype": "text/x-python",
   "name": "python",
   "nbconvert_exporter": "python",
   "pygments_lexer": "ipython3",
   "version": "3.10.8"
  },
  "toc": {
   "base_numbering": 1,
   "nav_menu": {},
   "number_sections": true,
   "sideBar": true,
   "skip_h1_title": false,
   "title_cell": "Table of Contents",
   "title_sidebar": "Contents",
   "toc_cell": false,
   "toc_position": {},
   "toc_section_display": true,
   "toc_window_display": false
  },
  "varInspector": {
   "cols": {
    "lenName": 16,
    "lenType": 16,
    "lenVar": 40
   },
   "kernels_config": {
    "python": {
     "delete_cmd_postfix": "",
     "delete_cmd_prefix": "del ",
     "library": "var_list.py",
     "varRefreshCmd": "print(var_dic_list())"
    },
    "r": {
     "delete_cmd_postfix": ") ",
     "delete_cmd_prefix": "rm(",
     "library": "var_list.r",
     "varRefreshCmd": "cat(var_dic_list()) "
    }
   },
   "types_to_exclude": [
    "module",
    "function",
    "builtin_function_or_method",
    "instance",
    "_Feature"
   ],
   "window_display": false
  },
  "vscode": {
   "interpreter": {
    "hash": "31f2aee4e71d21fbe5cf8b01ff0e069b9275f58929596ceb00d14d90e3e16cd6"
   }
  }
 },
 "nbformat": 4,
 "nbformat_minor": 5
}
