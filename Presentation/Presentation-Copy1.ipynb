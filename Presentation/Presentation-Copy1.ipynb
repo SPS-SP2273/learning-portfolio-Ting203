{
 "cells": [
  {
   "cell_type": "markdown",
   "id": "2300881b",
   "metadata": {},
   "source": [
    "# **What is TLC?**\n",
    "A simple analytical technique to separate and elucidate mixtures and compounds. \n"
   ]
  },
  {
   "cell_type": "markdown",
   "id": "d25a9873",
   "metadata": {},
   "source": [
    "![](picture1.png)"
   ]
  },
  {
   "cell_type": "markdown",
   "id": "554c26d8",
   "metadata": {},
   "source": [
    "## Principle of movement\n",
    "![](picture6.png)"
   ]
  },
  {
   "cell_type": "markdown",
   "id": "fa5e76b6",
   "metadata": {},
   "source": [
    "If the interactions between the compound and the stationary phase are strong, it is harder for the compound to move up\n",
    "If the interactions between the compound and mobile phase is strong, the compound move up easily. \n",
    "\n",
    "**These interactions are dictated by closeness polarity between the compound and the phases**\n",
    "![](picture2.png)"
   ]
  },
  {
   "cell_type": "markdown",
   "id": "5cf29548",
   "metadata": {},
   "source": [
    "Since, the use of solvents (mobile phase), is the main driving force for the elucidation of our compounds. As the mobile phase carries the compounds up, it provides a finer control on the separation. Hence, it is critical to pick the right solvent for TLC, as the mobile phase can be catered to our experimental needs. \n"
   ]
  },
  {
   "cell_type": "markdown",
   "id": "2e17f5d4",
   "metadata": {},
   "source": [
    "The relative distance a compound travels on the plate in relation to the mobile phase's travel distance is measured by the **Rf value** \n",
    "\n",
    "\n",
    "**Suitable solvent:**\n",
    "We want to choose a solvent system such that the Rf value of the different components in the mixture are as different as possible as that would indicate good separation. \n",
    "(image of good vs bad separation)"
   ]
  },
  {
   "cell_type": "markdown",
   "id": "2647f856",
   "metadata": {},
   "source": [
    "# Struggles that scientists face with TLC\n",
    "- Difficulty determining suitable solvent to be used for experimentation. (LibreTexts, 2019)\n",
    "- Large amount of chemical waste due to testing of different solvents.\n",
    "- Time wasted for waiting for solvent to separate. (Poole, 2003)\n",
    "- Choosing a proper solvent requires trials with known solvents and more rounds of separation using a mixture of solvents. (Santiago & Strobel, 2013)"
   ]
  },
  {
   "cell_type": "markdown",
   "id": "9a90b3f8",
   "metadata": {},
   "source": [
    "# Factors that influence Rf values\n",
    "1. Polarity of solvent (which can be estimated by dielectric constant)\n",
    "    - higher dielectric constant = more polar solvent"
   ]
  },
  {
   "cell_type": "markdown",
   "id": "112fcfc8",
   "metadata": {},
   "source": [
    "# How can coding help with the problems above?\n",
    "- Calculate Relative Polarity of the resultant mixture from user inputs of solvents and composition\n",
    "- Given inputs of user's current Rf value, solvent used and properties of the compound, calculate the estimated Rf value in another solvent system\n",
    "- With user inputs of their expected Rf value and current Rf value, output the composition of solvents to achieve the expected Rf value\n",
    "\n",
    "**With lesser need for trial and error, resources such as chemicals and time can be saved when conducting TLC**"
   ]
  },
  {
   "cell_type": "markdown",
   "id": "196c85c0",
   "metadata": {},
   "source": [
    "# How do we use coding?\n",
    "While we are unable to determine the Rf value directly, we can \n",
    "Since we are aware that the polarity of the compounds determine the suitability of the solvent, we want to know the relative polarity of the compounds. How do we find this mathematically? We use the **Amirjahed and Blake Equation**\n",
    "![](picture3.png)![](picture4.png)\n",
    "The higher the dielectric constant of the compounds, the higher the polarity of the compounds. Knowing this, it will help us to determine a suitable solvent."
   ]
  },
  {
   "cell_type": "markdown",
   "id": "9b96cdfa",
   "metadata": {},
   "source": [
    "![](picture5.png)\n"
   ]
  },
  {
   "cell_type": "code",
   "execution_count": 6,
   "id": "c0bf113d",
   "metadata": {},
   "outputs": [
    {
     "name": "stdout",
     "output_type": "stream",
     "text": [
      "hello\n"
     ]
    }
   ],
   "source": [
    "import numpy as np \n",
    "import csv \n",
    "dictionary_properties = {} \n",
    " \n",
    "with open(\"Solvents Reference Sheet final.csv\") as f: \n",
    "    reader1 = csv.reader(f) \n",
    "    reader1 = list(reader1) \n",
    "    title = reader1[0] \n",
    "    for r in reader1[1:]: \n",
    "        dictionary_properties[r[0]] = np.array((r[2], r[5], r[7])).astype(float) \n",
    "\n",
    " \n",
    "def chemist_final(): \n",
    "    chemical = input(\"What is your solvent? \").lower().strip() \n",
    "    i = 0 \n",
    "    while chemical not in dictionary_properties: \n",
    "        if i >= 5: \n",
    "            print(\"sorry you have exceeded all your tries\") \n",
    "            return  \n",
    "        chemical = input(\"Try again. What is your Solvent \") \n",
    "        i+=1 \n",
    "    x = dictionary_properties[chemical] \n",
    "    print(f\"{chemical} has molecular weight of {x[0]}, density of {x[1]} and dielectric constant of {x[2]}\") \n",
    "    return (chemical, dictionary_properties[chemical]) \n",
    "\n",
    " \n",
    "def reagentNumber(): \n",
    "    try: \n",
    "        number = int(input('How many reagents are you mixing')) \n",
    "        return number \n",
    "    except: \n",
    "        print(\"Please input an integer (e.g. 1, 2, 3)\") \n",
    "        reagentNumber() \n",
    " \n",
    "def ratio(solvent):\n",
    "    try: \n",
    "        number = float(input(f\"what is the ratio for {solvent}\")) \n",
    "        return number \n",
    "    except ValueError: \n",
    "        print(\"Please input a float value (e.g. 0.5, 0.7, 0.25)\") \n",
    "        moleFraction(solvent) \n",
    "\n",
    "def dielectric_constant(): \n",
    "    number_of_reagents = reagentNumber() \n",
    "    dict_of_reagents = {} \n",
    "    for i in range(number_of_reagents): \n",
    "        x,y = chemist_final() \n",
    "        dict_of_reagents[x] = y \n",
    "    numerator = 0 \n",
    "    denominator = 0 \n",
    "    list_of_mole_fraction = [] \n",
    "    for i in dict_of_reagents: \n",
    "        ratio_of_solvent = ratio(i) \n",
    "        mole_fraction = moleFraction(ratio_of_solvent, dict_of_reagents[i]) \n",
    "        list_of_mole_fraction.append(mole_fraction) \n",
    "        mole_volume = molarVolume(dict_of_reagents[i]) \n",
    "        numerator += (mole_fraction*(mole_volume + 2 * molarPol(dict_of_reagents[i]))) \n",
    "        denominator += (mole_fraction*(mole_volume - molarPol(dict_of_reagents[i]))) \n",
    "    answer = numerator/denominator \n",
    "    print(f\"a mixture of {list(dict_of_reagents.keys())} with mole fraction {list_of_mole_fraction}\") \n",
    "    print(f\"has a new dielectric constant of {answer:.3f}\") \n",
    " \n",
    "def moleFraction(ratio, properties): \n",
    "    vol = ratio * 100  \n",
    "    mole_fraction = vol * properties[1] / properties[0] \n",
    "    return mole_fraction \n",
    " \n",
    " \n",
    "def molarPol(value): \n",
    "    molar_mass, density, dielectric = value \n",
    "    answer = abs((dielectric -1)/(dielectric + 2)) * molar_mass / density \n",
    "    #print(answer) \n",
    "    return answer \n",
    " \n",
    "def molarVolume(value): \n",
    "    return value[0] / value[1]\n",
    "\n",
    "print(\"hello\")"
   ]
  },
  {
   "cell_type": "code",
   "execution_count": 10,
   "id": "b651a9f2",
   "metadata": {},
   "outputs": [
    {
     "name": "stdout",
     "output_type": "stream",
     "text": [
      "How many reagents are you mixing3\n",
      "What is your solvent? benzene\n",
      "benzene has molecular weight of 78.11, density of 0.8765 and dielectric constant of 2.28\n",
      "What is your solvent? dioxane\n",
      "Try again. What is your Solvent 1 ,4-dioxane\n",
      "1 ,4-dioxane has molecular weight of 88.11, density of 1.033 and dielectric constant of 2.21\n",
      "What is your solvent? acetic acid\n",
      "acetic acid has molecular weight of 60.052, density of 1.0446 and dielectric constant of 6.2\n",
      "what is the ratio for benzene0.9\n",
      "what is the ratio for 1 ,4-dioxane0.24\n",
      "what is the ratio for acetic acid0.04\n",
      "a mixture of ['benzene', '1 ,4-dioxane', 'acetic acid'] with mole fraction [1.009921905005761, 0.2813755532856656, 0.06957969759541731]\n",
      "has a new dielectric constant of 2.336\n"
     ]
    }
   ],
   "source": [
    "dielectric_constant()"
   ]
  },
  {
   "cell_type": "markdown",
   "id": "db1f38f5",
   "metadata": {},
   "source": [
    "![]('Picture1.png')"
   ]
  }
 ],
 "metadata": {
  "kernelspec": {
   "display_name": "Python 3 (ipykernel)",
   "language": "python",
   "name": "python3"
  },
  "language_info": {
   "codemirror_mode": {
    "name": "ipython",
    "version": 3
   },
   "file_extension": ".py",
   "mimetype": "text/x-python",
   "name": "python",
   "nbconvert_exporter": "python",
   "pygments_lexer": "ipython3",
   "version": "3.10.8"
  },
  "toc": {
   "base_numbering": 1,
   "nav_menu": {},
   "number_sections": true,
   "sideBar": true,
   "skip_h1_title": false,
   "title_cell": "Table of Contents",
   "title_sidebar": "Contents",
   "toc_cell": false,
   "toc_position": {},
   "toc_section_display": true,
   "toc_window_display": false
  },
  "varInspector": {
   "cols": {
    "lenName": 16,
    "lenType": 16,
    "lenVar": 40
   },
   "kernels_config": {
    "python": {
     "delete_cmd_postfix": "",
     "delete_cmd_prefix": "del ",
     "library": "var_list.py",
     "varRefreshCmd": "print(var_dic_list())"
    },
    "r": {
     "delete_cmd_postfix": ") ",
     "delete_cmd_prefix": "rm(",
     "library": "var_list.r",
     "varRefreshCmd": "cat(var_dic_list()) "
    }
   },
   "types_to_exclude": [
    "module",
    "function",
    "builtin_function_or_method",
    "instance",
    "_Feature"
   ],
   "window_display": false
  }
 },
 "nbformat": 4,
 "nbformat_minor": 5
}
