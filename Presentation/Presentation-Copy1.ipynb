{
 "cells": [
  {
   "cell_type": "markdown",
   "id": "2300881b",
   "metadata": {},
   "source": [
    "# **What is TLC?**\n",
    "A simple analytical technique to separate and elucidate mixtures and compounds. \n"
   ]
  },
  {
   "cell_type": "markdown",
   "id": "d25a9873",
   "metadata": {},
   "source": [
    "![](picture1.png)"
   ]
  },
  {
   "cell_type": "markdown",
   "id": "fa5e76b6",
   "metadata": {},
   "source": [
    "## Principle of movement\n",
    "\n",
    "If the interactions between the compound and the stationary phase are strong, it is harder for the compound to move up\n",
    "If the interactions between the compound and mobile phase is strong, the compound move up easily. \n",
    "\n",
    "**These interactions are dictated by closeness polarity between the compound and the phases**\n",
    "![](picture2.png)"
   ]
  },
  {
   "cell_type": "markdown",
   "id": "2647f856",
   "metadata": {},
   "source": [
    "# Why do we need the help of coding?\n",
    "- Difficulty determining suitable solvent to be used for experimentation. (LibreTexts, 2019)\n",
    "- Large amount of chemical waste due to testing of different solvents.\n",
    "- Time wasted for waiting for solvent to separate. (Poole, 2003)\n",
    "- Choosing a proper solvent requires trials with known solvents and more rounds of separation using a mixture of solvents. (Santiago & Strobel, 2013)"
   ]
  },
  {
   "cell_type": "markdown",
   "id": "112fcfc8",
   "metadata": {},
   "source": [
    "# How can coding help with the problems above?\n",
    "- Calculate Relative Polarity of the resultant mixture from user inputs of solvents and composition\n",
    "- Given inputs of user's current Rf value, solvent used and properties of the compound, calculate the estimated Rf value in another solvent system\n",
    "- With user inputs of their expected Rf value and current Rf value, output the composition of solvents to achieve the expected Rf value\n",
    "\n",
    "**With lesser need for trial and error, resources such as chemicals and time can be saved when conducting TLC**"
   ]
  },
  {
   "cell_type": "markdown",
   "id": "196c85c0",
   "metadata": {},
   "source": [
    "# How do we use coding?\n",
    "Since we are aware that the polarity of the compounds determine the suitability of the solvent, we want to know the relative polarity of the compounds. How do we find this mathematically? We use the **Amirjahed and Blake Equation**\n",
    "![](picture3.png)![](picture4.png)\n",
    "The higher the dielectric constant of the compounds, the higher the polarity of the compounds. Knowing this, it will help us to determine a suitable solvent."
   ]
  },
  {
   "cell_type": "markdown",
   "id": "9b96cdfa",
   "metadata": {},
   "source": [
    "![](picture5.png)\n"
   ]
  },
  {
   "cell_type": "code",
   "execution_count": null,
   "id": "c0bf113d",
   "metadata": {},
   "outputs": [
    {
     "name": "stdout",
     "output_type": "stream",
     "text": [
      "How many reagents are you mixing 2\n",
      "What is your solvent? water\n",
      "water has molecular weight of 18.02, density of 0.998 and dielectric constant of 78.54\n"
     ]
    }
   ],
   "source": [
    "import numpy as np \n",
    "import csv \n",
    "dictionary_properties = {} \n",
    " \n",
    "with open(\"Solvents Reference Sheet final.csv\") as f: \n",
    "  reader = csv.reader(f) \n",
    "  reader = list(reader) \n",
    "  columns = reader[0] \n",
    "  for r in reader[1:]: \n",
    "    dictionary_properties[r[0]] = np.array((r[2], r[5], r[7])).astype(float) \n",
    "  #print(dictionary_properties) \n",
    " \n",
    "def chemist_final(): \n",
    "  chemical = input(\"What is your solvent? \").lower().strip() \n",
    "  i = 0 \n",
    "  while chemical not in dictionary_properties: \n",
    "    if i >= 5: \n",
    "      print(\"sorry you have exceeded all your tries\") \n",
    "      return  \n",
    "    chemical = input(\"Try again. What is your Solvent \") \n",
    "    i+=1 \n",
    "  x = dictionary_properties[chemical] \n",
    "  print(f\"{chemical} has molecular weight of {x[0]}, density of {x[1]} and dielectric constant of {x[2]}\") \n",
    "  return (chemical, dictionary_properties[chemical]) \n",
    " \n",
    " \n",
    "def dielectric_constant(): \n",
    "  try: \n",
    "    number_of_reagents = int(input(\"How many reagents are you mixing \")) \n",
    "    dict_of_reagents = {} \n",
    "    for i in range(number_of_reagents): \n",
    "      x,y = chemist_final() \n",
    "      dict_of_reagents[x] = y \n",
    "    numerator = 0 \n",
    "    denominator = 0 \n",
    "    list_of_mole_fraction = [] \n",
    "    for i in dict_of_reagents: \n",
    "      mole_fraction = float(input(f\"What is the mole fraction for {i} \")) \n",
    "      list_of_mole_fraction.append(mole_fraction) \n",
    "      mole_volume = molar_volume(dict_of_reagents[i]) \n",
    "      numerator += (mole_fraction*(mole_volume + 2 * molar_pol(dict_of_reagents[i]))) \n",
    "      denominator += (mole_fraction*(mole_volume - molar_pol(dict_of_reagents[i]))) \n",
    "    answer = numerator/denominator \n",
    "    print(f\"a mixture of {list(dict_of_reagents.keys())} with mole fraction {list_of_mole_fraction}\") \n",
    "    print(f\"has a new dielectric constant of {answer:.3f.}\") \n",
    "  except ValueError: \n",
    "    print(\"Seems like u have inputted an input which is not a number, please try again\") \n",
    "    dielectric_constant() \n",
    "  #return numerator/denominator \n",
    " \n",
    "def molar_pol(value): \n",
    "  molar_mass, density, dielectric = value \n",
    "  answer = abs((dielectric -1)/(dielectric + 2)) * molar_mass / density \n",
    "  #print(answer) \n",
    "  return answer \n",
    " \n",
    "def molar_volume(value): \n",
    "  return value[0] / value[1] \n",
    " \n",
    "dielectric_constant()\n"
   ]
  },
  {
   "cell_type": "markdown",
   "id": "db1f38f5",
   "metadata": {},
   "source": [
    "![]('Picture1.png')"
   ]
  }
 ],
 "metadata": {
  "kernelspec": {
   "display_name": "Python 3 (ipykernel)",
   "language": "python",
   "name": "python3"
  },
  "language_info": {
   "codemirror_mode": {
    "name": "ipython",
    "version": 3
   },
   "file_extension": ".py",
   "mimetype": "text/x-python",
   "name": "python",
   "nbconvert_exporter": "python",
   "pygments_lexer": "ipython3",
   "version": "3.10.8"
  },
  "toc": {
   "base_numbering": 1,
   "nav_menu": {},
   "number_sections": true,
   "sideBar": true,
   "skip_h1_title": false,
   "title_cell": "Table of Contents",
   "title_sidebar": "Contents",
   "toc_cell": false,
   "toc_position": {},
   "toc_section_display": true,
   "toc_window_display": false
  },
  "varInspector": {
   "cols": {
    "lenName": 16,
    "lenType": 16,
    "lenVar": 40
   },
   "kernels_config": {
    "python": {
     "delete_cmd_postfix": "",
     "delete_cmd_prefix": "del ",
     "library": "var_list.py",
     "varRefreshCmd": "print(var_dic_list())"
    },
    "r": {
     "delete_cmd_postfix": ") ",
     "delete_cmd_prefix": "rm(",
     "library": "var_list.r",
     "varRefreshCmd": "cat(var_dic_list()) "
    }
   },
   "types_to_exclude": [
    "module",
    "function",
    "builtin_function_or_method",
    "instance",
    "_Feature"
   ],
   "window_display": false
  }
 },
 "nbformat": 4,
 "nbformat_minor": 5
}
