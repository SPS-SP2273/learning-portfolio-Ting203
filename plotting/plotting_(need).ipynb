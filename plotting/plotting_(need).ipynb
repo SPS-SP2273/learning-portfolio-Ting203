{
 "cells": [
  {
   "cell_type": "markdown",
   "id": "123456",
   "metadata": {},
   "source": [
    "<div style=\"text-align:left;font-size:2em\"><span style=\"font-weight:bolder;font-size:1.25em\">SP2273 | Learning Portfolio</span><br><br><span style=\"font-weight:bold;color:darkred\">Plotting (Need)</span></div>"
   ]
  },
  {
   "cell_type": "markdown",
   "id": "e47d263d",
   "metadata": {},
   "source": [
    "## 1 A simple plot"
   ]
  },
  {
   "cell_type": "markdown",
   "id": "0600246e",
   "metadata": {},
   "source": [
    "### 1.1 Let’s look at some code."
   ]
  },
  {
   "cell_type": "code",
   "execution_count": 1,
   "id": "54208ce3",
   "metadata": {},
   "outputs": [],
   "source": [
    "from matplotlib import pyplot as plt"
   ]
  },
  {
   "cell_type": "code",
   "execution_count": 11,
   "id": "74112453",
   "metadata": {},
   "outputs": [
    {
     "data": {
      "image/png": "[encoded data removed]",
      "text/plain": [
       "<Figure size 640x480 with 1 Axes>"
      ]
     },
     "metadata": {},
     "output_type": "display_data"
    }
   ],
   "source": [
    "# Some data for plotting\n",
    "x = [0, 1, 2, 3, 4, 5, 6]\n",
    "y_1 = [0, 2, 4, 6, 8, 10, 12]\n",
    "y_2 = [0, 3, 6, 9, 12, 15, 18]\n",
    "\n",
    "# Let's start plotting\n",
    "plt.plot(x, y_1, color='red', linestyle='dashed', label='Y values')\n",
    "plt.xlabel('x-values')\n",
    "plt.ylabel('y-values')\n",
    "plt.title('X vs Y')\n",
    "plt.grid(alpha=.8)\n",
    "plt.legend(loc='upper left')\n",
    "plt.show()"
   ]
  },
  {
   "cell_type": "markdown",
   "id": "aebf53ae",
   "metadata": {},
   "source": [
    "### 1.2 Adding another plot"
   ]
  },
  {
   "cell_type": "code",
   "execution_count": null,
   "id": "870902fe",
   "metadata": {},
   "outputs": [],
   "source": [
    "\n",
    "# Your code here\n"
   ]
  },
  {
   "cell_type": "markdown",
   "id": "0792a01a",
   "metadata": {},
   "source": [
    "### 1.3 Yet another plot but with error bars"
   ]
  },
  {
   "cell_type": "code",
   "execution_count": null,
   "id": "e0119009",
   "metadata": {},
   "outputs": [],
   "source": [
    "\n",
    "# Your code here\n"
   ]
  },
  {
   "cell_type": "markdown",
   "id": "7a830a05",
   "metadata": {},
   "source": [
    "### 1.4 Experiment, Experiment, Experiment"
   ]
  },
  {
   "cell_type": "code",
   "execution_count": null,
   "id": "ce598946",
   "metadata": {},
   "outputs": [],
   "source": [
    "\n",
    "# Your code here\n"
   ]
  },
  {
   "cell_type": "markdown",
   "id": "b6703928",
   "metadata": {},
   "source": [
    "### 1.5 Better with NumPy"
   ]
  },
  {
   "cell_type": "code",
   "execution_count": null,
   "id": "26d28bdc",
   "metadata": {},
   "outputs": [],
   "source": [
    "\n",
    "# Your code here\n"
   ]
  },
  {
   "cell_type": "markdown",
   "id": "dccfeea8",
   "metadata": {},
   "source": [
    "### 1.6 Adding mathematical functions"
   ]
  },
  {
   "cell_type": "code",
   "execution_count": null,
   "id": "9e612b34",
   "metadata": {},
   "outputs": [],
   "source": [
    "\n",
    "# Your code here\n"
   ]
  },
  {
   "cell_type": "markdown",
   "id": "1b98c85a",
   "metadata": {},
   "source": [
    "### 1.7 We need another axis!"
   ]
  },
  {
   "cell_type": "code",
   "execution_count": null,
   "id": "f8f5f106",
   "metadata": {},
   "outputs": [],
   "source": [
    "\n",
    "# Your code here\n"
   ]
  },
  {
   "cell_type": "markdown",
   "id": "6a6b6e69",
   "metadata": {},
   "source": [
    "### 1.8 Saving to disc"
   ]
  },
  {
   "cell_type": "code",
   "execution_count": null,
   "id": "4e7a22dc",
   "metadata": {},
   "outputs": [],
   "source": [
    "\n",
    "# Your code here\n"
   ]
  },
  {
   "cell_type": "markdown",
   "id": "365c9eb2",
   "metadata": {},
   "source": [
    "## 2 A real example: Global Warming"
   ]
  },
  {
   "cell_type": "markdown",
   "id": "90f25d41",
   "metadata": {},
   "source": [
    "### 2.1 Plotting data from files"
   ]
  },
  {
   "cell_type": "code",
   "execution_count": null,
   "id": "fa8d9244",
   "metadata": {},
   "outputs": [],
   "source": [
    "\n",
    "# Your code here\n"
   ]
  },
  {
   "cell_type": "markdown",
   "id": "796fb114",
   "metadata": {},
   "source": [
    "### 2.2 xkcd!"
   ]
  },
  {
   "cell_type": "code",
   "execution_count": null,
   "id": "a59faf86",
   "metadata": {},
   "outputs": [],
   "source": [
    "\n",
    "# Your code here\n"
   ]
  },
  {
   "cell_type": "markdown",
   "id": "12b3d8f1",
   "metadata": {},
   "source": [
    "## Exercise 1 :  Fill in the blanks"
   ]
  },
  {
   "cell_type": "code",
   "execution_count": null,
   "id": "b4c4d3f7",
   "metadata": {},
   "outputs": [],
   "source": [
    "\n",
    "\n",
    "\n",
    "# Your solution here\n",
    "\n",
    "\n"
   ]
  },
  {
   "cell_type": "markdown",
   "id": "996fb1f9",
   "metadata": {},
   "source": [
    "## Exercise 2 :  A simple mathematical plot"
   ]
  },
  {
   "cell_type": "code",
   "execution_count": null,
   "id": "54b628de",
   "metadata": {},
   "outputs": [],
   "source": [
    "\n",
    "\n",
    "\n",
    "# Your solution here\n",
    "\n",
    "\n"
   ]
  }
 ],
 "metadata": {
  "kernelspec": {
   "display_name": "Python 3 (ipykernel)",
   "language": "python",
   "name": "python3"
  },
  "language_info": {
   "codemirror_mode": {
    "name": "ipython",
    "version": 3
   },
   "file_extension": ".py",
   "mimetype": "text/x-python",
   "name": "python",
   "nbconvert_exporter": "python",
   "pygments_lexer": "ipython3",
   "version": "3.10.8"
  },
  "toc": {
   "base_numbering": 1,
   "nav_menu": {},
   "number_sections": true,
   "sideBar": true,
   "skip_h1_title": false,
   "title_cell": "Table of Contents",
   "title_sidebar": "Contents",
   "toc_cell": false,
   "toc_position": {},
   "toc_section_display": true,
   "toc_window_display": false
  },
  "varInspector": {
   "cols": {
    "lenName": 16,
    "lenType": 16,
    "lenVar": 40
   },
   "kernels_config": {
    "python": {
     "delete_cmd_postfix": "",
     "delete_cmd_prefix": "del ",
     "library": "var_list.py",
     "varRefreshCmd": "print(var_dic_list())"
    },
    "r": {
     "delete_cmd_postfix": ") ",
     "delete_cmd_prefix": "rm(",
     "library": "var_list.r",
     "varRefreshCmd": "cat(var_dic_list()) "
    }
   },
   "types_to_exclude": [
    "module",
    "function",
    "builtin_function_or_method",
    "instance",
    "_Feature"
   ],
   "window_display": false
  },
  "vscode": {
   "interpreter": {
    "hash": "31f2aee4e71d21fbe5cf8b01ff0e069b9275f58929596ceb00d14d90e3e16cd6"
   }
  }
 },
 "nbformat": 4,
 "nbformat_minor": 5
}
