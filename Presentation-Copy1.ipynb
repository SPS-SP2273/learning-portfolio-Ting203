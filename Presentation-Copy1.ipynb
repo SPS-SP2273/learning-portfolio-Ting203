{
 "cells": [
  {
   "cell_type": "markdown",
   "id": "2300881b",
   "metadata": {},
   "source": [
    "# **What is TLC?**\n",
    "A simple analytical technique to separate and elucidate mixtures and compounds. \n"
   ]
  },
  {
   "cell_type": "markdown",
   "id": "d25a9873",
   "metadata": {},
   "source": [
    "![](picture1.png)"
   ]
  },
  {
   "attachments": {},
   "cell_type": "markdown",
   "id": "fa5e76b6",
   "metadata": {},
   "source": [
    "## Principle of movement\n",
    "\n",
    "If the interactions between the compound and the stationary phase are strong, it is harder for the compound to move up\n",
    "If the interactions between the compound and mobile phase is strong, the compound move up easily. \n",
    "\n",
    "**These interactions are dictated by closeness polarity between the compound and the phases**\n",
    "![](picture2.png)"
   ]
  },
  {
   "attachments": {},
   "cell_type": "markdown",
   "id": "2647f856",
   "metadata": {},
   "source": [
    "# Why do we need the help of coding?\n",
    "- Difficulty determining suitable solvent to be used for experimentation. (LibreTexts, 2019)\n",
    "- Large amount of chemical waste due to testing of different solvents.\n",
    "- Time wasted for waiting for solvent to separate. (Poole, 2003)\n",
    "- Choosing a proper solvent requires trials with known solvents and more rounds of separation using a mixture of solvents. (Santiago & Strobel, 2013)"
   ]
  },
  {
   "attachments": {},
   "cell_type": "markdown",
   "id": "112fcfc8",
   "metadata": {},
   "source": [
    "# How can coding help with the problems above?\n",
    "- Calculate Relative Polarity of the resultant mixture from user inputs of solvents and composition\n",
    "- Given inputs of user's current Rf value, solvent used and properties of the compound, calculate the estimated Rf value in another solvent system\n",
    "- With user inputs of their expected Rf value and current Rf value, output the composition of solvents to achieve the expected Rf value\n",
    "\n",
    "**With lesser need for trial and error, resources such as chemicals and time can be saved when conducting TLC**"
   ]
  },
  {
   "attachments": {},
   "cell_type": "markdown",
   "id": "196c85c0",
   "metadata": {},
   "source": [
    "# How do we use coding?\n",
    "Since we are aware that the polarity of the compounds determine the suitability of the solvent, we want to know the relative polarity of the compounds. How do we find this mathematically? We use the **Amirjahed and Blake Equation**\n",
    "![](picture3.png)![](picture4.png)\n",
    "The higher the dielectric constant of the compounds, the higher the polarity of the compounds. Knowing this, it will help us to determine a suitable solvent."
   ]
  },
  {
   "cell_type": "markdown",
   "id": "9b96cdfa",
   "metadata": {},
   "source": [
    "![](picture5.png)\n"
   ]
  },
  {
   "cell_type": "code",
   "execution_count": null,
   "id": "c0bf113d",
   "metadata": {},
   "outputs": [],
   "source": [
    "include assumptions"
   ]
  },
  {
   "cell_type": "markdown",
   "id": "db1f38f5",
   "metadata": {},
   "source": [
    "![]('Picture1.png')"
   ]
  }
 ],
 "metadata": {
  "kernelspec": {
   "display_name": "Python 3 (ipykernel)",
   "language": "python",
   "name": "python3"
  },
  "language_info": {
   "codemirror_mode": {
    "name": "ipython",
    "version": 3
   },
   "file_extension": ".py",
   "mimetype": "text/x-python",
   "name": "python",
   "nbconvert_exporter": "python",
   "pygments_lexer": "ipython3",
   "version": "3.10.8"
  },
  "toc": {
   "base_numbering": 1,
   "nav_menu": {},
   "number_sections": true,
   "sideBar": true,
   "skip_h1_title": false,
   "title_cell": "Table of Contents",
   "title_sidebar": "Contents",
   "toc_cell": false,
   "toc_position": {},
   "toc_section_display": true,
   "toc_window_display": false
  },
  "varInspector": {
   "cols": {
    "lenName": 16,
    "lenType": 16,
    "lenVar": 40
   },
   "kernels_config": {
    "python": {
     "delete_cmd_postfix": "",
     "delete_cmd_prefix": "del ",
     "library": "var_list.py",
     "varRefreshCmd": "print(var_dic_list())"
    },
    "r": {
     "delete_cmd_postfix": ") ",
     "delete_cmd_prefix": "rm(",
     "library": "var_list.r",
     "varRefreshCmd": "cat(var_dic_list()) "
    }
   },
   "types_to_exclude": [
    "module",
    "function",
    "builtin_function_or_method",
    "instance",
    "_Feature"
   ],
   "window_display": false
  }
 },
 "nbformat": 4,
 "nbformat_minor": 5
}
